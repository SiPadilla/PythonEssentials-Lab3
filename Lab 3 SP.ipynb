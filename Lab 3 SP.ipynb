{
 "cells": [
  {
   "cell_type": "code",
   "execution_count": 59,
   "metadata": {},
   "outputs": [],
   "source": [
    "# object_oriented.py\n",
    "\"\"\"Python Essentials: Object Oriented Programming.\n",
    "<Name> Silvia Padilla\n",
    "<Class> Python Essentials\n",
    "<Date> 3/27\n",
    "\"\"\"\n",
    "\n",
    "\n",
    "class Backpack:\n",
    "    \"\"\"A Backpack object class. Has a name, a list of contents, a color, and a max number of contents.\n",
    "\n",
    "    Attributes:\n",
    "        name (str): the name of the backpack's owner.\n",
    "        contents (list): the contents of the backpack.\n",
    "        color (str): the color of the backpack\n",
    "        max_size (int): the max numer of items allowed in the backpack. Set to 5. \n",
    "    \"\"\"\n",
    "\n",
    "    # Problem 1: Modify __init__() and put(), and write dump().\n",
    "    \n",
    "    def __init__(self, name, color, max_size=5):\n",
    "        \"\"\"Set the name and initialize an empty list of contents.\n",
    "\n",
    "        Parameters:\n",
    "            name (str): the name of the backpack's owner.\n",
    "            contents (list): the contents of the backpack.\n",
    "        \"\"\"\n",
    "        self.name = name\n",
    "        self.color = color\n",
    "        self.contents = []\n",
    "        self.max_size = 5\n",
    "        \n",
    "\n",
    "    def put(self, item):\n",
    "        \"\"\"Add an item to the backpack's list of contents. Unless there are more than 5 items in the list\"\"\"\n",
    "        if len(self.contents) >= self.max_size:\n",
    "            print(\"No Room!\")\n",
    "        else:\n",
    "            self.contents.append(item)\n",
    "\n",
    "    def take(self, item):\n",
    "        \"\"\"Remove an item from the backpack's list of contents.\"\"\"\n",
    "        self.contents.remove(item)\n",
    "\n",
    "    def dump(self):\n",
    "        \"\"\"Removes all items from the backpack's list of contents.\"\"\"       \n",
    "        self.contents = []\n",
    "\n",
    "\n",
    "\n",
    "    # Magic Methods -----------------------------------------------------------\n",
    "\n",
    "    # Problem 3: Write __eq__() and __str__().\n",
    "    def __add__(self, other):\n",
    "        \"\"\"Add the number of contents of each Backpack.\"\"\"\n",
    "        return len(self.contents) + len(other.contents)\n",
    "\n",
    "    def __lt__(self, other):\n",
    "        \"\"\"Compare two backpacks. If 'self' has fewer contents\n",
    "        than 'other', return True. Otherwise, return False.\n",
    "        \"\"\"\n",
    "        return len(self.contents) < len(other.contents)\n",
    "\n",
    "    def __eq__(self,other):\n",
    "        \"\"\"Compares to backpacks and determines if they are equal if and only if they have the same name, color, and\n",
    "        number of contents\n",
    "        \"\"\"\n",
    "        return self.name == other.name and self.color == other.color and len(self.contents) == len(other.contents)\n",
    "\n",
    "    def __str__(self):\n",
    "        \"\"\"Returns a string representation of info about the Backpack\"\"\"\n",
    "        return str(print(\"Owner:\\t{}\\nColor:\\t{}\\nNumber of items:\\t{}\\nMax size:\\t{}\\nContents:\\t{}\".format(self.name, self.color, len(self.contents),self.max_size,self.contents)))\n",
    "\n",
    "\n",
    "# An example of inheritance. You are not required to modify this class.\n",
    "class Knapsack(Backpack):\n",
    "    \"\"\"A Knapsack object class. Inherits from the Backpack class.\n",
    "    A knapsack is smaller than a backpack and can be tied closed.\n",
    "\n",
    "    Attributes:\n",
    "        name (str): the name of the knapsack's owner.\n",
    "        color (str): the color of the knapsack.\n",
    "        max_size (int): the maximum number of items that can fit inside.\n",
    "        contents (list): the contents of the backpack.\n",
    "        closed (bool): whether or not the knapsack is tied shut.\n",
    "    \"\"\"\n",
    "    def __init__(self, name, color):\n",
    "        \"\"\"Use the Backpack constructor to initialize the name, color,\n",
    "        and max_size attributes. A knapsack only holds 3 item by default.\n",
    "\n",
    "        Parameters:\n",
    "            name (str): the name of the knapsack's owner.\n",
    "            color (str): the color of the knapsack.\n",
    "            max_size (int): the maximum number of items that can fit inside.\n",
    "        \"\"\"\n",
    "        Backpack.__init__(self, name, color, max_size=3)\n",
    "        self.closed = True\n",
    "\n",
    "    def put(self, item):\n",
    "        \"\"\"If the knapsack is untied, use the Backpack.put() method.\"\"\"\n",
    "        if self.closed:\n",
    "            print(\"I'm closed!\")\n",
    "        else:\n",
    "            Backpack.put(self, item)\n",
    "\n",
    "    def take(self, item):\n",
    "        \"\"\"If the knapsack is untied, use the Backpack.take() method.\"\"\"\n",
    "        if self.closed:\n",
    "            print(\"I'm closed!\")\n",
    "        else:\n",
    "            Backpack.take(self, item)\n",
    "\n",
    "    def weight(self):\n",
    "        \"\"\"Calculate the weight of the knapsack by counting the length of the\n",
    "        string representations of each item in the contents list.\n",
    "        \"\"\"\n",
    "        return sum(len(str(item)) for item in self.contents)\n",
    "\n",
    "\n",
    "# Problem 2: Write a 'Jetpack' class that inherits from the 'Backpack' class.\n",
    "\n",
    "class Jetpack(Backpack):\n",
    "    \"\"\"A Jetpack object class. Inherits from the Backpack class.\n",
    "    A jetpack will carry fuel\n",
    "\n",
    "    Attributes:\n",
    "        name (str): the name of the Jetpack's owner.\n",
    "        color (str): the color of the jetpack\n",
    "        max_size (int): the maximum number of items that can fit inside.\n",
    "        contents (list): the contents of the backpack.\n",
    "        fuel (int): the amount of fuel that can be carried. \n",
    "    \"\"\"\n",
    "    def __init__(self, name, color,fuel=10):\n",
    "        \"\"\"Use the Backpack constructor to initialize the name, color,\n",
    "        and max_size attributes. A knapsack only holds 3 item by default.\n",
    "\n",
    "        Parameters:\n",
    "            name (str): the name of the knapsack's owner.\n",
    "            color (str): the color of the knapsack.\n",
    "            max_size (int): the maximum number of items that can fit inside.\n",
    "        \"\"\"\n",
    "        Backpack.__init__(self, name, color, max_size=2)\n",
    "        self.fuel = 10\n",
    "        self.max_size=2\n",
    "\n",
    "    def fly(self, fuel_burned):\n",
    "        \"\"\"Takes in the amount of fuel that will be used and makes sure it is \n",
    "            not greater than the amount of fuel available\n",
    "        \"\"\"\n",
    "        if self.fuel - fuel_burned <= 0:\n",
    "            print(\"Not enough fuel!\")\n",
    "        else:\n",
    "            self.fuel = self.fuel - fuel_burned\n",
    "\n",
    "    def dump(self):\n",
    "        \"\"\"Empties the fuel tank and removes items in Backpack\n",
    "        \"\"\"\n",
    "        self.contents = []\n",
    "        self.fuel = 0"
   ]
  },
  {
   "cell_type": "code",
   "execution_count": 60,
   "metadata": {},
   "outputs": [
    {
     "data": {
      "text/plain": [
       "'Problem 1 Testing'"
      ]
     },
     "execution_count": 60,
     "metadata": {},
     "output_type": "execute_result"
    }
   ],
   "source": [
    "\"\"\"Problem 1 Testing\"\"\""
   ]
  },
  {
   "cell_type": "code",
   "execution_count": 61,
   "metadata": {},
   "outputs": [],
   "source": [
    "def test_backpack():\n",
    "    testpack = Backpack(\"Barry\", \"black\") # Instantiate the object.\n",
    "    if testpack.name != \"Barry\": # Test an attribute.\n",
    "        print(\"Backpack.name assigned incorrectly\")\n",
    "    for item in [\"pencil\", \"pen\", \"paper\", \"computer\", \"notebook\"]:\n",
    "        testpack.put(item) # Test a method.\n",
    "    print(\"Contents:\", testpack.contents)\n",
    "    \n",
    "    testpack.put(\"book\") # Test a method.\n",
    "    \n",
    "    testpack.dump()\n",
    "    print(\"Contents:\", testpack.contents)"
   ]
  },
  {
   "cell_type": "code",
   "execution_count": 62,
   "metadata": {},
   "outputs": [
    {
     "name": "stdout",
     "output_type": "stream",
     "text": [
      "Contents: ['pencil', 'pen', 'paper', 'computer', 'notebook']\n",
      "No Room!\n",
      "Contents: []\n"
     ]
    }
   ],
   "source": [
    "test_backpack()"
   ]
  },
  {
   "cell_type": "code",
   "execution_count": 63,
   "metadata": {},
   "outputs": [
    {
     "data": {
      "text/plain": [
       "'Problem 3 Testing'"
      ]
     },
     "execution_count": 63,
     "metadata": {},
     "output_type": "execute_result"
    }
   ],
   "source": [
    "\"\"\"Problem 3 Testing\"\"\""
   ]
  },
  {
   "cell_type": "code",
   "execution_count": 64,
   "metadata": {},
   "outputs": [],
   "source": [
    "def test_magicmethods():\n",
    "    test_pack = Backpack(\"Bob\", \"blue\") # Instantiate the object.\n",
    "    test_pack.put(\"Pen\")\n",
    "    str(test_pack) # Test a method."
   ]
  },
  {
   "cell_type": "code",
   "execution_count": 65,
   "metadata": {
    "scrolled": true
   },
   "outputs": [
    {
     "name": "stdout",
     "output_type": "stream",
     "text": [
      "Owner:\tBob\n",
      "Color:\tblue\n",
      "Number of items:\t1\n",
      "Max size:\t5\n",
      "Contents:\t['Pen']\n"
     ]
    }
   ],
   "source": [
    "test_magicmethods()"
   ]
  },
  {
   "cell_type": "code",
   "execution_count": 66,
   "metadata": {},
   "outputs": [
    {
     "data": {
      "text/plain": [
       "'Problem 2 Testing'"
      ]
     },
     "execution_count": 66,
     "metadata": {},
     "output_type": "execute_result"
    }
   ],
   "source": [
    "\"\"\"Problem 2 Testing\"\"\""
   ]
  },
  {
   "cell_type": "code",
   "execution_count": 67,
   "metadata": {},
   "outputs": [],
   "source": [
    "def test_jetpack():\n",
    "    my_jetpack = Jetpack(\"Bob\", \"blue\")  # Instantiate the object.\n",
    "    my_jetpack.fly(12) #Test method. Should return \"Not enough fuel\"\n",
    "    my_jetpack.fly(5) #Test method.\n",
    "    print(my_jetpack.fuel)\n",
    "\n",
    "    for item in [\"pencil\", \"pen\"]:\n",
    "        my_jetpack.put(item) # Test a method.\n",
    "    print(\"Contents:\", my_jetpack.contents)\n",
    "    \n",
    "    my_jetpack.put(\"book\") # Test a method. Should return \"No room!\"\n",
    "\n",
    "    my_jetpack.dump() # Test a method. \n",
    "    print(\"Contents:\", my_jetpack.contents, \"Fuel:\",my_jetpack.fuel)"
   ]
  },
  {
   "cell_type": "code",
   "execution_count": 68,
   "metadata": {},
   "outputs": [
    {
     "name": "stdout",
     "output_type": "stream",
     "text": [
      "Not enough fuel!\n",
      "5\n",
      "Contents: ['pencil', 'pen']\n",
      "No Room!\n",
      "Contents: [] Fuel: 0\n"
     ]
    }
   ],
   "source": [
    "test_jetpack()"
   ]
  },
  {
   "cell_type": "code",
   "execution_count": 69,
   "metadata": {},
   "outputs": [
    {
     "data": {
      "text/plain": [
       "'Problem 4 Testing'"
      ]
     },
     "execution_count": 69,
     "metadata": {},
     "output_type": "execute_result"
    }
   ],
   "source": [
    "\"\"\"Problem 4 Testing\"\"\""
   ]
  },
  {
   "cell_type": "code",
   "execution_count": 70,
   "metadata": {},
   "outputs": [],
   "source": [
    "# Problem 4: Write a 'ComplexNumber' class.\n",
    "class ComplexNumber:\n",
    "    \"\"\"A ComplexNumber object class. Has a real number and an imaginary number\n",
    "\n",
    "    Attributes:\n",
    "        real (int): real number\n",
    "        imag (int): imaginary number\n",
    "    \"\"\"\n",
    "    def __init__(self,real,imag):\n",
    "        \"\"\"Use the ComplexNumber constructor to initialize real and imag attributes. \n",
    "        Parameters:\n",
    "            real (int): real number\n",
    "            imag (int): imaginary number\n",
    "        \"\"\"\n",
    "        self.real = real\n",
    "        self.imag = imag\n",
    "\n",
    "    def conjugate(self):\n",
    "        \"\"\"Returns the complex conjugate of a complex number\n",
    "        \"\"\"\n",
    "        return ComplexNumber(self.real, -self.imag)\n",
    "\n",
    "    def __str__(self):\n",
    "        \"\"\"Returns the string representation of a complex numbers\n",
    "        \"\"\"\n",
    "        if self.imag >= 0:\n",
    "            return \"({}+{}j)\".format(self.real,self.imag)\n",
    "        else:\n",
    "            return \"({}{}j)\".format(self.real,self.imag)\n",
    "    def __abs__(self):\n",
    "        \"\"\"Returns the magnitude of a complex number\n",
    "        \"\"\"\n",
    "        return (self.real**2 + self.imag**2)**(1/2)\n",
    "\n",
    "    def __eq__(self,other):\n",
    "        \"\"\"Checks whether two complex numbers are equal and returns true \n",
    "            if and only if they have the same real and imaginary components\n",
    "        \"\"\"\n",
    "        return self.real == other.real and self.imag == other.imag\n",
    "    \n",
    "    def __add__(self,other):\n",
    "        \"\"\"Adds two complex numbers\n",
    "        \"\"\"\n",
    "        return ComplexNumber(self.real + other.real, self.imag + other.imag)\n",
    "\n",
    "    def __sub__(self, other):\n",
    "        \"\"\"Subtracts two complex numbers\n",
    "        \"\"\"\n",
    "        return ComplexNumber(self.real - other.real, self.imag - other.imag)\n",
    "\n",
    "    def __mul__(self, other):\n",
    "        \"\"\"Multiplies two complex numbers\n",
    "        \"\"\"\n",
    "        return ComplexNumber(((self.real * other.real)- (self.imag * other.imag)), ((self.real * other.imag)+ (self.imag * other.real)))\n",
    "\n",
    "    def __truediv__(self, other):\n",
    "        \"\"\"Divides two complex numbers\n",
    "        \"\"\"\n",
    "        ccoj = other.conjugate()\n",
    "        return ComplexNumber((((self.real * ccoj.real)- (self.imag * ccoj.imag))/((other.real * ccoj.real)- (other.imag * ccoj.imag))), ((self.real * ccoj.imag)+ (self.imag * ccoj.real))/((other.real * ccoj.real)- (other.imag * ccoj.imag)))"
   ]
  },
  {
   "cell_type": "code",
   "execution_count": 71,
   "metadata": {},
   "outputs": [],
   "source": [
    "def test_ComplexNumber(a1, b1, a2, b2):\n",
    "    py_cnum1, my_cnum1 = complex(a1, b1), ComplexNumber(a1, b1)\n",
    "    py_cnum2, my_cnum2 = complex(a2, b2), ComplexNumber(a2, b2)\n",
    "    \n",
    "    # Validate the constructor.\n",
    "    if my_cnum1.real != a1 or my_cnum1.imag != b1:\n",
    "        print(\"__init__() set self.real and self.imag incorrectly\")\n",
    "    # Validate conjugate() by checking the new number's imag attribute.\n",
    "    if py_cnum1.conjugate().imag != my_cnum1.conjugate().imag:\n",
    "        print(\"conjugate() failed for\", py_cnum1)\n",
    "    # Validate __str__().\n",
    "    if str(py_cnum1) != str(my_cnum1):\n",
    "        print(\"__str__() failed for\", py_cnum1)\n",
    "     # Validate __abs__().\n",
    "    if abs(py_cnum1) != abs(my_cnum1):\n",
    "        print(\"__abs__() failed for\", py_cnum1)\n",
    "    # Validate __add__().  \n",
    "    py_sum = py_cnum1 + py_cnum2\n",
    "    my_sum = my_cnum1 + my_cnum2\n",
    "    if py_sum.real != my_sum.real or py_sum.imag != my_sum.imag:\n",
    "        print(\"Addition did not work\") \n",
    "    # Validate __sub__().    \n",
    "    py_diff = py_cnum1 - py_cnum2\n",
    "    my_diff = my_cnum1 - my_cnum2\n",
    "    if py_diff.real != my_diff.real or py_diff.imag != my_diff.imag:\n",
    "        print(\"Subtraction did not work\") \n",
    "    # Validate __mul__().    \n",
    "    py_prod = py_cnum1 * py_cnum2\n",
    "    my_prod = my_cnum1 * my_cnum2\n",
    "    if py_prod.real != my_prod.real or py_prod.imag != my_prod.imag:\n",
    "        print(\"Multiplication did not work\")\n",
    "    # Validate __truediv__().    \n",
    "    py_quot = py_cnum1 / py_cnum2\n",
    "    my_quot = my_cnum1 / my_cnum2\n",
    "    if py_quot.real != my_quot.real or py_quot.imag != my_quot.imag:\n",
    "        print(\"Division did not work\")"
   ]
  },
  {
   "cell_type": "code",
   "execution_count": 72,
   "metadata": {},
   "outputs": [],
   "source": [
    "test_ComplexNumber(1,2,3,4)"
   ]
  },
  {
   "cell_type": "code",
   "execution_count": null,
   "metadata": {},
   "outputs": [],
   "source": []
  },
  {
   "cell_type": "code",
   "execution_count": null,
   "metadata": {},
   "outputs": [],
   "source": []
  }
 ],
 "metadata": {
  "kernelspec": {
   "display_name": "Python 3",
   "language": "python",
   "name": "python3"
  },
  "language_info": {
   "codemirror_mode": {
    "name": "ipython",
    "version": 3
   },
   "file_extension": ".py",
   "mimetype": "text/x-python",
   "name": "python",
   "nbconvert_exporter": "python",
   "pygments_lexer": "ipython3",
   "version": "3.7.1"
  }
 },
 "nbformat": 4,
 "nbformat_minor": 2
}
